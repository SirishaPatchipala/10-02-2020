{
 "cells": [
  {
   "cell_type": "markdown",
   "metadata": {},
   "source": [
    "### Function"
   ]
  },
  {
   "cell_type": "code",
   "execution_count": 1,
   "metadata": {},
   "outputs": [],
   "source": [
    "#its a group of instructions\n",
    "# a^2+b^2+2*a*b=(a+b)^2"
   ]
  },
  {
   "cell_type": "code",
   "execution_count": 2,
   "metadata": {},
   "outputs": [],
   "source": [
    "def square(a,b):\n",
    "    s=(a**2+b**2+2*a*b)\n",
    "    return s"
   ]
  },
  {
   "cell_type": "code",
   "execution_count": 12,
   "metadata": {},
   "outputs": [
    {
     "data": {
      "text/plain": [
       "25"
      ]
     },
     "execution_count": 12,
     "metadata": {},
     "output_type": "execute_result"
    }
   ],
   "source": [
    "square(2,3)"
   ]
  },
  {
   "cell_type": "code",
   "execution_count": 4,
   "metadata": {},
   "outputs": [],
   "source": [
    "#9 1,3,9\n",
    "#printing sum of factors\n",
    "def sumfact(n):\n",
    "    i=1\n",
    "    summ=0\n",
    "    for i in range(1,n+1):\n",
    "        if(n%i==0):\n",
    "            summ=summ+i\n",
    "    print(summ)\n",
    "    "
   ]
  },
  {
   "cell_type": "code",
   "execution_count": 15,
   "metadata": {},
   "outputs": [
    {
     "name": "stdout",
     "output_type": "stream",
     "text": [
      "28\n"
     ]
    }
   ],
   "source": [
    "sumfact(12)"
   ]
  },
  {
   "cell_type": "code",
   "execution_count": 14,
   "metadata": {},
   "outputs": [
    {
     "name": "stdout",
     "output_type": "stream",
     "text": [
      "1651\n"
     ]
    }
   ],
   "source": [
    "sumfact(576)"
   ]
  },
  {
   "cell_type": "code",
   "execution_count": 16,
   "metadata": {},
   "outputs": [],
   "source": [
    "# function for primme no\n",
    "def prime(n):\n",
    "    factcount=0;\n",
    "    if(n==1):\n",
    "        return False\n",
    "    if(n==2):\n",
    "        return True\n",
    "    else:\n",
    "        for i in range (2,int (n/2)+1):\n",
    "            if(n%i==0):\n",
    "                factcount=factcount+1\n",
    "    if(factcount==0):\n",
    "        return True\n",
    "    return False"
   ]
  },
  {
   "cell_type": "code",
   "execution_count": 17,
   "metadata": {},
   "outputs": [
    {
     "data": {
      "text/plain": [
       "True"
      ]
     },
     "execution_count": 17,
     "metadata": {},
     "output_type": "execute_result"
    }
   ],
   "source": [
    "prime(13)"
   ]
  },
  {
   "cell_type": "code",
   "execution_count": 18,
   "metadata": {},
   "outputs": [
    {
     "name": "stdout",
     "output_type": "stream",
     "text": [
      "12\n",
      "5\n"
     ]
    }
   ],
   "source": [
    "# take a input\n",
    "n=int(input())\n",
    "prsum=0\n",
    "for i in range(1,n+1):\n",
    "    if(n%i==0):\n",
    "        if(prime(i)):\n",
    "            prsum=prsum+i\n",
    "print(prsum)                 "
   ]
  },
  {
   "cell_type": "markdown",
   "metadata": {},
   "source": [
    "- print all leap year in a given range-\n",
    "- print no leap years in a given range\n",
    "- print all even factors for a given no\n",
    "- print all the prime no in a given range\n",
    "- print no of primefactors for a given number"
   ]
  },
  {
   "cell_type": "code",
   "execution_count": 10,
   "metadata": {},
   "outputs": [
    {
     "name": "stdout",
     "output_type": "stream",
     "text": [
      "2000\n",
      "0\n"
     ]
    }
   ],
   "source": [
    "year=int(input())\n",
    "for year in range(((year%4==0) and(year%100!=0))or(year%400==0)):\n",
    "    print(year)"
   ]
  },
  {
   "cell_type": "code",
   "execution_count": null,
   "metadata": {},
   "outputs": [],
   "source": [
    "lb=int(input(\"enter lower boundary\"))\n",
    "ub=int(input(\"enter upper boundary\"))\n",
    "count=0\n",
    "for i in range(lb,ub+1):\n",
    "    if(leap(i)):\n",
    "        count=count+1\n",
    "    print(count)    "
   ]
  },
  {
   "cell_type": "code",
   "execution_count": 10,
   "metadata": {},
   "outputs": [
    {
     "name": "stdout",
     "output_type": "stream",
     "text": [
      "12\n",
      "2\n",
      "4\n",
      "6\n",
      "12\n"
     ]
    }
   ],
   "source": [
    "n=int(input())\n",
    "for i in range(1,n+1):\n",
    "    if(n%i==0):\n",
    "        if(i%2==0):\n",
    "            print(i)"
   ]
  },
  {
   "cell_type": "code",
   "execution_count": 3,
   "metadata": {},
   "outputs": [],
   "source": [
    "def prime(n):\n",
    "    factcount=0;\n",
    "    if(n==2):\n",
    "        return True\n",
    "    else:\n",
    "        for i in range (2,int (n/2)+1):\n",
    "            if(n%i==0):\n",
    "                factcount=factcount+1\n",
    "    if(factcount==0):\n",
    "        return True\n",
    "    return False"
   ]
  },
  {
   "cell_type": "code",
   "execution_count": 11,
   "metadata": {},
   "outputs": [
    {
     "data": {
      "text/plain": [
       "False"
      ]
     },
     "execution_count": 11,
     "metadata": {},
     "output_type": "execute_result"
    }
   ],
   "source": [
    "prime(12)"
   ]
  },
  {
   "cell_type": "code",
   "execution_count": 12,
   "metadata": {},
   "outputs": [
    {
     "name": "stdout",
     "output_type": "stream",
     "text": [
      "enter lower boundary:10\n",
      "enter upper boundary:20\n",
      "11\n",
      "13\n",
      "17\n",
      "19\n"
     ]
    }
   ],
   "source": [
    "lb=int(input(\"enter lower boundary:\"))\n",
    "ub=int(input(\"enter upper boundary:\"))\n",
    "for i in range(lb,ub+1):\n",
    "    if(prime(i)):\n",
    "        print(i)"
   ]
  },
  {
   "cell_type": "code",
   "execution_count": 7,
   "metadata": {},
   "outputs": [
    {
     "name": "stdout",
     "output_type": "stream",
     "text": [
      "12\n",
      "2\n",
      "3\n"
     ]
    }
   ],
   "source": [
    "#print no of primefactors for a given number\n",
    "n=int(input())\n",
    "for i in range(2,n+1):\n",
    "    if(n%i==0):\n",
    "        if(prime(i)):\n",
    "            print(i)"
   ]
  },
  {
   "cell_type": "markdown",
   "metadata": {},
   "source": [
    "# armstrong"
   ]
  },
  {
   "cell_type": "code",
   "execution_count": 21,
   "metadata": {},
   "outputs": [],
   "source": [
    "def armstrong(n):\n",
    "    sn=str(n)\n",
    "    ln=len(sn)\n",
    "    arm=0\n",
    "    for i in sn:\n",
    "        arm=arm+(int(i)**ln)\n",
    "    if(arm==n):\n",
    "        return True\n",
    "    return False"
   ]
  },
  {
   "cell_type": "code",
   "execution_count": 24,
   "metadata": {},
   "outputs": [
    {
     "data": {
      "text/plain": [
       "True"
      ]
     },
     "execution_count": 24,
     "metadata": {},
     "output_type": "execute_result"
    }
   ],
   "source": [
    "armstrong(153)"
   ]
  },
  {
   "cell_type": "code",
   "execution_count": null,
   "metadata": {},
   "outputs": [],
   "source": [
    "#total surface area of agiven pyramid\n",
    "# sqaure\n",
    "#rectangular\n",
    "#area of square+4*(area of triangle)\n",
    "#area of rectangle(l,b),+4*area of triangle(h,len,)\n",
    "#area of triangle*4"
   ]
  },
  {
   "cell_type": "code",
   "execution_count": 14,
   "metadata": {},
   "outputs": [
    {
     "name": "stdout",
     "output_type": "stream",
     "text": [
      "enter type of pyramid 1-square pyramid 2-rectangular pyramid 3-triangle2\n",
      "length of triangle8\n",
      "breadth of reactangle7\n",
      "height of the pyramid6\n",
      "side of triangle4\n",
      "total surface area: 56.0\n"
     ]
    }
   ],
   "source": [
    "n=int(input(\"enter type of pyramid 1-square pyramid 2-rectangular pyramid 3-triangle\"))\n",
    "if(n==1):\n",
    "    square()\n",
    "if(n==2):\n",
    "    rectangular()\n",
    "if(n==3):\n",
    "    triangular()\n",
    "        "
   ]
  },
  {
   "cell_type": "code",
   "execution_count": 8,
   "metadata": {},
   "outputs": [],
   "source": [
    "def square():\n",
    "    side=int(input(\"enter the len of side of square\"))\n",
    "    height=int(input(\"enter the height of pyramid\"))\n",
    "    print(\"total surface area:\",(side**2+4*(0.5*height*side)))"
   ]
  },
  {
   "cell_type": "code",
   "execution_count": 12,
   "metadata": {},
   "outputs": [],
   "source": [
    "def rectangular():\n",
    "    length=int(input(\"length of triangle\"))\n",
    "    breadth=int(input(\"breadth of reactangle\"))      \n",
    "    height=int(input(\"height of the pyramid\"))\n",
    "    side=int(input(\"side of triangle\"))\n",
    "    print(\"total surface area:\",(length*breadth+4*(0.*height*side)))"
   ]
  },
  {
   "cell_type": "code",
   "execution_count": 13,
   "metadata": {},
   "outputs": [],
   "source": [
    "def triangular():\n",
    "    side=int(input(\"enter side of triangle\"))\n",
    "    print(\"total surface area\",(4*(0.5*(side)**2)))    "
   ]
  },
  {
   "cell_type": "code",
   "execution_count": null,
   "metadata": {},
   "outputs": [],
   "source": []
  }
 ],
 "metadata": {
  "kernelspec": {
   "display_name": "Python 3",
   "language": "python",
   "name": "python3"
  }
 },
 "nbformat": 4,
 "nbformat_minor": 2
}
